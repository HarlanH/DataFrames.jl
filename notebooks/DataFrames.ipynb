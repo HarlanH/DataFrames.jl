{
 "cells": [
  {
   "cell_type": "markdown",
   "metadata": {},
   "source": [
    "# DataFrames.jl"
   ]
  },
  {
   "cell_type": "code",
   "execution_count": 1,
   "metadata": {},
   "outputs": [],
   "source": [
    "using DataFrames, Statistics"
   ]
  },
  {
   "cell_type": "code",
   "execution_count": 2,
   "metadata": {},
   "outputs": [
    {
     "data": {
      "text/html": [
       "<table class=\"data-frame\"><thead><tr><th></th><th>id</th><th>grp</th><th>x</th><th>y</th><th>z</th></tr><tr><th></th><th>Char</th><th>Int64</th><th>Int64</th><th>Int64</th><th>Int64?</th></tr></thead><tbody><p>6 rows × 5 columns</p><tr><th>1</th><td>'a'</td><td>1</td><td>6</td><td>4</td><td>3</td></tr><tr><th>2</th><td>'b'</td><td>2</td><td>5</td><td>5</td><td>4</td></tr><tr><th>3</th><td>'c'</td><td>1</td><td>4</td><td>6</td><td>5</td></tr><tr><th>4</th><td>'d'</td><td>2</td><td>3</td><td>7</td><td>6</td></tr><tr><th>5</th><td>'e'</td><td>1</td><td>2</td><td>8</td><td>7</td></tr><tr><th>6</th><td>'f'</td><td>2</td><td>1</td><td>9</td><td><em>missing</em></td></tr></tbody></table>"
      ],
      "text/latex": [
       "\\begin{tabular}{r|ccccc}\n",
       "\t& id & grp & x & y & z\\\\\n",
       "\t\\hline\n",
       "\t& Char & Int64 & Int64 & Int64 & Int64?\\\\\n",
       "\t\\hline\n",
       "\t1 & 'a' & 1 & 6 & 4 & 3 \\\\\n",
       "\t2 & 'b' & 2 & 5 & 5 & 4 \\\\\n",
       "\t3 & 'c' & 1 & 4 & 6 & 5 \\\\\n",
       "\t4 & 'd' & 2 & 3 & 7 & 6 \\\\\n",
       "\t5 & 'e' & 1 & 2 & 8 & 7 \\\\\n",
       "\t6 & 'f' & 2 & 1 & 9 & \\emph{missing} \\\\\n",
       "\\end{tabular}\n"
      ],
      "text/plain": [
       "6×5 DataFrame\n",
       "│ Row │ id   │ grp   │ x     │ y     │ z       │\n",
       "│     │ \u001b[90mChar\u001b[39m │ \u001b[90mInt64\u001b[39m │ \u001b[90mInt64\u001b[39m │ \u001b[90mInt64\u001b[39m │ \u001b[90mInt64?\u001b[39m  │\n",
       "├─────┼──────┼───────┼───────┼───────┼─────────┤\n",
       "│ 1   │ 'a'  │ 1     │ 6     │ 4     │ 3       │\n",
       "│ 2   │ 'b'  │ 2     │ 5     │ 5     │ 4       │\n",
       "│ 3   │ 'c'  │ 1     │ 4     │ 6     │ 5       │\n",
       "│ 4   │ 'd'  │ 2     │ 3     │ 7     │ 6       │\n",
       "│ 5   │ 'e'  │ 1     │ 2     │ 8     │ 7       │\n",
       "│ 6   │ 'f'  │ 2     │ 1     │ 9     │ \u001b[90mmissing\u001b[39m │"
      ]
     },
     "execution_count": 2,
     "metadata": {},
     "output_type": "execute_result"
    }
   ],
   "source": [
    "df = DataFrame(id = 'a':'f', grp = repeat(1:2, 3), x = 6:-1:1, y = 4:9, z = [3:7; missing])"
   ]
  },
  {
   "cell_type": "markdown",
   "metadata": {},
   "source": [
    "DataFrames.jl does not support row indices. In this example, the record identifiers are stored as in the `id` column. "
   ]
  },
  {
   "cell_type": "markdown",
   "metadata": {},
   "source": [
    "# Accessing data"
   ]
  },
  {
   "cell_type": "markdown",
   "metadata": {},
   "source": [
    "Julia uses 1-based indexing."
   ]
  },
  {
   "cell_type": "code",
   "execution_count": 3,
   "metadata": {},
   "outputs": [
    {
     "data": {
      "text/plain": [
       "2"
      ]
     },
     "execution_count": 3,
     "metadata": {},
     "output_type": "execute_result"
    }
   ],
   "source": [
    "df[2, 2]  # second row, second column."
   ]
  },
  {
   "cell_type": "code",
   "execution_count": 4,
   "metadata": {},
   "outputs": [
    {
     "data": {
      "text/html": [
       "<table class=\"data-frame\"><thead><tr><th></th><th>id</th><th>grp</th><th>x</th><th>y</th><th>z</th></tr><tr><th></th><th>Char</th><th>Int64</th><th>Int64</th><th>Int64</th><th>Int64?</th></tr></thead><tbody><p>2 rows × 5 columns</p><tr><th>1</th><td>'b'</td><td>2</td><td>5</td><td>5</td><td>4</td></tr><tr><th>2</th><td>'c'</td><td>1</td><td>4</td><td>6</td><td>5</td></tr></tbody></table>"
      ],
      "text/latex": [
       "\\begin{tabular}{r|ccccc}\n",
       "\t& id & grp & x & y & z\\\\\n",
       "\t\\hline\n",
       "\t& Char & Int64 & Int64 & Int64 & Int64?\\\\\n",
       "\t\\hline\n",
       "\t1 & 'b' & 2 & 5 & 5 & 4 \\\\\n",
       "\t2 & 'c' & 1 & 4 & 6 & 5 \\\\\n",
       "\\end{tabular}\n"
      ],
      "text/plain": [
       "2×5 DataFrame\n",
       "│ Row │ id   │ grp   │ x     │ y     │ z      │\n",
       "│     │ \u001b[90mChar\u001b[39m │ \u001b[90mInt64\u001b[39m │ \u001b[90mInt64\u001b[39m │ \u001b[90mInt64\u001b[39m │ \u001b[90mInt64?\u001b[39m │\n",
       "├─────┼──────┼───────┼───────┼───────┼────────┤\n",
       "│ 1   │ 'b'  │ 2     │ 5     │ 5     │ 4      │\n",
       "│ 2   │ 'c'  │ 1     │ 4     │ 6     │ 5      │"
      ]
     },
     "execution_count": 4,
     "metadata": {},
     "output_type": "execute_result"
    }
   ],
   "source": [
    "df[2:3, :]  # second and third rows, all columns"
   ]
  },
  {
   "cell_type": "code",
   "execution_count": 5,
   "metadata": {},
   "outputs": [
    {
     "data": {
      "text/html": [
       "<table class=\"data-frame\"><thead><tr><th></th><th>grp</th><th>x</th><th>y</th><th>z</th></tr><tr><th></th><th>Int64</th><th>Int64</th><th>Int64</th><th>Int64?</th></tr></thead><tbody><p>6 rows × 4 columns</p><tr><th>1</th><td>1</td><td>6</td><td>4</td><td>3</td></tr><tr><th>2</th><td>2</td><td>5</td><td>5</td><td>4</td></tr><tr><th>3</th><td>1</td><td>4</td><td>6</td><td>5</td></tr><tr><th>4</th><td>2</td><td>3</td><td>7</td><td>6</td></tr><tr><th>5</th><td>1</td><td>2</td><td>8</td><td>7</td></tr><tr><th>6</th><td>2</td><td>1</td><td>9</td><td><em>missing</em></td></tr></tbody></table>"
      ],
      "text/latex": [
       "\\begin{tabular}{r|cccc}\n",
       "\t& grp & x & y & z\\\\\n",
       "\t\\hline\n",
       "\t& Int64 & Int64 & Int64 & Int64?\\\\\n",
       "\t\\hline\n",
       "\t1 & 1 & 6 & 4 & 3 \\\\\n",
       "\t2 & 2 & 5 & 5 & 4 \\\\\n",
       "\t3 & 1 & 4 & 6 & 5 \\\\\n",
       "\t4 & 2 & 3 & 7 & 6 \\\\\n",
       "\t5 & 1 & 2 & 8 & 7 \\\\\n",
       "\t6 & 2 & 1 & 9 & \\emph{missing} \\\\\n",
       "\\end{tabular}\n"
      ],
      "text/plain": [
       "6×4 DataFrame\n",
       "│ Row │ grp   │ x     │ y     │ z       │\n",
       "│     │ \u001b[90mInt64\u001b[39m │ \u001b[90mInt64\u001b[39m │ \u001b[90mInt64\u001b[39m │ \u001b[90mInt64?\u001b[39m  │\n",
       "├─────┼───────┼───────┼───────┼─────────┤\n",
       "│ 1   │ 1     │ 6     │ 4     │ 3       │\n",
       "│ 2   │ 2     │ 5     │ 5     │ 4       │\n",
       "│ 3   │ 1     │ 4     │ 6     │ 5       │\n",
       "│ 4   │ 2     │ 3     │ 7     │ 6       │\n",
       "│ 5   │ 1     │ 2     │ 8     │ 7       │\n",
       "│ 6   │ 2     │ 1     │ 9     │ \u001b[90mmissing\u001b[39m │"
      ]
     },
     "execution_count": 5,
     "metadata": {},
     "output_type": "execute_result"
    }
   ],
   "source": [
    "df[:, 2:end]   # all rows, second to last columns"
   ]
  },
  {
   "cell_type": "markdown",
   "metadata": {},
   "source": [
    "DataFrames.jl indexing using `findfirst` always return a DataFrameRow object. To match multiple rows, use `findall` and it would return a DataFrame object."
   ]
  },
  {
   "cell_type": "code",
   "execution_count": 6,
   "metadata": {},
   "outputs": [
    {
     "data": {
      "text/html": [
       "<p>DataFrameRow (5 columns)</p><table class=\"data-frame\"><thead><tr><th></th><th>id</th><th>grp</th><th>x</th><th>y</th><th>z</th></tr><tr><th></th><th>Char</th><th>Int64</th><th>Int64</th><th>Int64</th><th>Int64?</th></tr></thead><tbody><tr><th>3</th><td>'c'</td><td>1</td><td>4</td><td>6</td><td>5</td></tr></tbody></table>"
      ],
      "text/latex": [
       "\\begin{tabular}{r|ccccc}\n",
       "\t& id & grp & x & y & z\\\\\n",
       "\t\\hline\n",
       "\t& Char & Int64 & Int64 & Int64 & Int64?\\\\\n",
       "\t\\hline\n",
       "\t3 & 'c' & 1 & 4 & 6 & 5 \\\\\n",
       "\\end{tabular}\n"
      ],
      "text/plain": [
       "DataFrameRow\n",
       "│ Row │ id   │ grp   │ x     │ y     │ z      │\n",
       "│     │ \u001b[90mChar\u001b[39m │ \u001b[90mInt64\u001b[39m │ \u001b[90mInt64\u001b[39m │ \u001b[90mInt64\u001b[39m │ \u001b[90mInt64?\u001b[39m │\n",
       "├─────┼──────┼───────┼───────┼───────┼────────┤\n",
       "│ 3   │ 'c'  │ 1     │ 4     │ 6     │ 5      │"
      ]
     },
     "execution_count": 6,
     "metadata": {},
     "output_type": "execute_result"
    }
   ],
   "source": [
    "df[findfirst(==('c'), df.id), :]   # single row having id == 'c'"
   ]
  },
  {
   "cell_type": "code",
   "execution_count": 7,
   "metadata": {},
   "outputs": [
    {
     "data": {
      "text/html": [
       "<table class=\"data-frame\"><thead><tr><th></th><th>id</th><th>x</th></tr><tr><th></th><th>Char</th><th>Int64</th></tr></thead><tbody><p>6 rows × 2 columns</p><tr><th>1</th><td>'a'</td><td>6</td></tr><tr><th>2</th><td>'b'</td><td>5</td></tr><tr><th>3</th><td>'c'</td><td>4</td></tr><tr><th>4</th><td>'d'</td><td>3</td></tr><tr><th>5</th><td>'e'</td><td>2</td></tr><tr><th>6</th><td>'f'</td><td>1</td></tr></tbody></table>"
      ],
      "text/latex": [
       "\\begin{tabular}{r|cc}\n",
       "\t& id & x\\\\\n",
       "\t\\hline\n",
       "\t& Char & Int64\\\\\n",
       "\t\\hline\n",
       "\t1 & 'a' & 6 \\\\\n",
       "\t2 & 'b' & 5 \\\\\n",
       "\t3 & 'c' & 4 \\\\\n",
       "\t4 & 'd' & 3 \\\\\n",
       "\t5 & 'e' & 2 \\\\\n",
       "\t6 & 'f' & 1 \\\\\n",
       "\\end{tabular}\n"
      ],
      "text/plain": [
       "6×2 DataFrame\n",
       "│ Row │ id   │ x     │\n",
       "│     │ \u001b[90mChar\u001b[39m │ \u001b[90mInt64\u001b[39m │\n",
       "├─────┼──────┼───────┤\n",
       "│ 1   │ 'a'  │ 6     │\n",
       "│ 2   │ 'b'  │ 5     │\n",
       "│ 3   │ 'c'  │ 4     │\n",
       "│ 4   │ 'd'  │ 3     │\n",
       "│ 5   │ 'e'  │ 2     │\n",
       "│ 6   │ 'f'  │ 1     │"
      ]
     },
     "execution_count": 7,
     "metadata": {},
     "output_type": "execute_result"
    }
   ],
   "source": [
    "df[:, [:id, :x]]    # all rows, 'x' column    "
   ]
  },
  {
   "cell_type": "code",
   "execution_count": 8,
   "metadata": {},
   "outputs": [
    {
     "data": {
      "text/html": [
       "<table class=\"data-frame\"><thead><tr><th></th><th>id</th><th>x</th><th>z</th></tr><tr><th></th><th>Char</th><th>Int64</th><th>Int64?</th></tr></thead><tbody><p>6 rows × 3 columns</p><tr><th>1</th><td>'a'</td><td>6</td><td>3</td></tr><tr><th>2</th><td>'b'</td><td>5</td><td>4</td></tr><tr><th>3</th><td>'c'</td><td>4</td><td>5</td></tr><tr><th>4</th><td>'d'</td><td>3</td><td>6</td></tr><tr><th>5</th><td>'e'</td><td>2</td><td>7</td></tr><tr><th>6</th><td>'f'</td><td>1</td><td><em>missing</em></td></tr></tbody></table>"
      ],
      "text/latex": [
       "\\begin{tabular}{r|ccc}\n",
       "\t& id & x & z\\\\\n",
       "\t\\hline\n",
       "\t& Char & Int64 & Int64?\\\\\n",
       "\t\\hline\n",
       "\t1 & 'a' & 6 & 3 \\\\\n",
       "\t2 & 'b' & 5 & 4 \\\\\n",
       "\t3 & 'c' & 4 & 5 \\\\\n",
       "\t4 & 'd' & 3 & 6 \\\\\n",
       "\t5 & 'e' & 2 & 7 \\\\\n",
       "\t6 & 'f' & 1 & \\emph{missing} \\\\\n",
       "\\end{tabular}\n"
      ],
      "text/plain": [
       "6×3 DataFrame\n",
       "│ Row │ id   │ x     │ z       │\n",
       "│     │ \u001b[90mChar\u001b[39m │ \u001b[90mInt64\u001b[39m │ \u001b[90mInt64?\u001b[39m  │\n",
       "├─────┼──────┼───────┼─────────┤\n",
       "│ 1   │ 'a'  │ 6     │ 3       │\n",
       "│ 2   │ 'b'  │ 5     │ 4       │\n",
       "│ 3   │ 'c'  │ 4     │ 5       │\n",
       "│ 4   │ 'd'  │ 3     │ 6       │\n",
       "│ 5   │ 'e'  │ 2     │ 7       │\n",
       "│ 6   │ 'f'  │ 1     │ \u001b[90mmissing\u001b[39m │"
      ]
     },
     "execution_count": 8,
     "metadata": {},
     "output_type": "execute_result"
    }
   ],
   "source": [
    "df[:, [:id, :x, :z]]   # all rows, columns 'x' and 'z'"
   ]
  },
  {
   "cell_type": "code",
   "execution_count": 9,
   "metadata": {},
   "outputs": [
    {
     "data": {
      "text/html": [
       "<table class=\"data-frame\"><thead><tr><th></th><th>id</th><th>x</th><th>y</th><th>z</th></tr><tr><th></th><th>Char</th><th>Int64</th><th>Int64</th><th>Int64?</th></tr></thead><tbody><p>6 rows × 4 columns</p><tr><th>1</th><td>'a'</td><td>6</td><td>4</td><td>3</td></tr><tr><th>2</th><td>'b'</td><td>5</td><td>5</td><td>4</td></tr><tr><th>3</th><td>'c'</td><td>4</td><td>6</td><td>5</td></tr><tr><th>4</th><td>'d'</td><td>3</td><td>7</td><td>6</td></tr><tr><th>5</th><td>'e'</td><td>2</td><td>8</td><td>7</td></tr><tr><th>6</th><td>'f'</td><td>1</td><td>9</td><td><em>missing</em></td></tr></tbody></table>"
      ],
      "text/latex": [
       "\\begin{tabular}{r|cccc}\n",
       "\t& id & x & y & z\\\\\n",
       "\t\\hline\n",
       "\t& Char & Int64 & Int64 & Int64?\\\\\n",
       "\t\\hline\n",
       "\t1 & 'a' & 6 & 4 & 3 \\\\\n",
       "\t2 & 'b' & 5 & 5 & 4 \\\\\n",
       "\t3 & 'c' & 4 & 6 & 5 \\\\\n",
       "\t4 & 'd' & 3 & 7 & 6 \\\\\n",
       "\t5 & 'e' & 2 & 8 & 7 \\\\\n",
       "\t6 & 'f' & 1 & 9 & \\emph{missing} \\\\\n",
       "\\end{tabular}\n"
      ],
      "text/plain": [
       "6×4 DataFrame\n",
       "│ Row │ id   │ x     │ y     │ z       │\n",
       "│     │ \u001b[90mChar\u001b[39m │ \u001b[90mInt64\u001b[39m │ \u001b[90mInt64\u001b[39m │ \u001b[90mInt64?\u001b[39m  │\n",
       "├─────┼──────┼───────┼───────┼─────────┤\n",
       "│ 1   │ 'a'  │ 6     │ 4     │ 3       │\n",
       "│ 2   │ 'b'  │ 5     │ 5     │ 4       │\n",
       "│ 3   │ 'c'  │ 4     │ 6     │ 5       │\n",
       "│ 4   │ 'd'  │ 3     │ 7     │ 6       │\n",
       "│ 5   │ 'e'  │ 2     │ 8     │ 7       │\n",
       "│ 6   │ 'f'  │ 1     │ 9     │ \u001b[90mmissing\u001b[39m │"
      ]
     },
     "execution_count": 9,
     "metadata": {},
     "output_type": "execute_result"
    }
   ],
   "source": [
    "# df[:, [:id, Between(:x, :z)]]    # direct indexing does not work in this case\n",
    "select(df, :id, Between(:x, :z))   # all rows, alls columns between 'x' and 'z'"
   ]
  },
  {
   "cell_type": "code",
   "execution_count": 10,
   "metadata": {},
   "outputs": [
    {
     "data": {
      "text/plain": [
       "4"
      ]
     },
     "execution_count": 10,
     "metadata": {},
     "output_type": "execute_result"
    }
   ],
   "source": [
    "df[findfirst(==('c'), df.id), 3]   # row having id = 'c', third column"
   ]
  },
  {
   "cell_type": "markdown",
   "metadata": {},
   "source": [
    "# Common operations"
   ]
  },
  {
   "cell_type": "code",
   "execution_count": 11,
   "metadata": {},
   "outputs": [
    {
     "data": {
      "text/plain": [
       "missing"
      ]
     },
     "execution_count": 11,
     "metadata": {},
     "output_type": "execute_result"
    }
   ],
   "source": [
    "mean(df.z)"
   ]
  },
  {
   "cell_type": "code",
   "execution_count": 12,
   "metadata": {},
   "outputs": [
    {
     "data": {
      "text/plain": [
       "5.0"
      ]
     },
     "execution_count": 12,
     "metadata": {},
     "output_type": "execute_result"
    }
   ],
   "source": [
    "mean(skipmissing(df.z))"
   ]
  },
  {
   "cell_type": "code",
   "execution_count": 13,
   "metadata": {},
   "outputs": [
    {
     "data": {
      "text/html": [
       "<table class=\"data-frame\"><thead><tr><th></th><th>z_mean_skipmissing</th></tr><tr><th></th><th>Float64</th></tr></thead><tbody><p>1 rows × 1 columns</p><tr><th>1</th><td>5.0</td></tr></tbody></table>"
      ],
      "text/latex": [
       "\\begin{tabular}{r|c}\n",
       "\t& z\\_mean\\_skipmissing\\\\\n",
       "\t\\hline\n",
       "\t& Float64\\\\\n",
       "\t\\hline\n",
       "\t1 & 5.0 \\\\\n",
       "\\end{tabular}\n"
      ],
      "text/plain": [
       "1×1 DataFrame\n",
       "│ Row │ z_mean_skipmissing │\n",
       "│     │ \u001b[90mFloat64\u001b[39m            │\n",
       "├─────┼────────────────────┤\n",
       "│ 1   │ 5.0                │"
      ]
     },
     "execution_count": 13,
     "metadata": {},
     "output_type": "execute_result"
    }
   ],
   "source": [
    "combine(df, :z => mean ∘ skipmissing)"
   ]
  },
  {
   "cell_type": "code",
   "execution_count": 14,
   "metadata": {},
   "outputs": [
    {
     "data": {
      "text/html": [
       "<table class=\"data-frame\"><thead><tr><th></th><th>id</th><th>grp</th><th>x</th><th>y</th><th>z</th><th>z1</th></tr><tr><th></th><th>Char</th><th>Int64</th><th>Int64</th><th>Int64</th><th>Int64?</th><th>Int64?</th></tr></thead><tbody><p>6 rows × 6 columns</p><tr><th>1</th><td>'a'</td><td>1</td><td>6</td><td>4</td><td>3</td><td>4</td></tr><tr><th>2</th><td>'b'</td><td>2</td><td>5</td><td>5</td><td>4</td><td>5</td></tr><tr><th>3</th><td>'c'</td><td>1</td><td>4</td><td>6</td><td>5</td><td>6</td></tr><tr><th>4</th><td>'d'</td><td>2</td><td>3</td><td>7</td><td>6</td><td>7</td></tr><tr><th>5</th><td>'e'</td><td>1</td><td>2</td><td>8</td><td>7</td><td>8</td></tr><tr><th>6</th><td>'f'</td><td>2</td><td>1</td><td>9</td><td><em>missing</em></td><td><em>missing</em></td></tr></tbody></table>"
      ],
      "text/latex": [
       "\\begin{tabular}{r|cccccc}\n",
       "\t& id & grp & x & y & z & z1\\\\\n",
       "\t\\hline\n",
       "\t& Char & Int64 & Int64 & Int64 & Int64? & Int64?\\\\\n",
       "\t\\hline\n",
       "\t1 & 'a' & 1 & 6 & 4 & 3 & 4 \\\\\n",
       "\t2 & 'b' & 2 & 5 & 5 & 4 & 5 \\\\\n",
       "\t3 & 'c' & 1 & 4 & 6 & 5 & 6 \\\\\n",
       "\t4 & 'd' & 2 & 3 & 7 & 6 & 7 \\\\\n",
       "\t5 & 'e' & 1 & 2 & 8 & 7 & 8 \\\\\n",
       "\t6 & 'f' & 2 & 1 & 9 & \\emph{missing} & \\emph{missing} \\\\\n",
       "\\end{tabular}\n"
      ],
      "text/plain": [
       "6×6 DataFrame\n",
       "│ Row │ id   │ grp   │ x     │ y     │ z       │ z1      │\n",
       "│     │ \u001b[90mChar\u001b[39m │ \u001b[90mInt64\u001b[39m │ \u001b[90mInt64\u001b[39m │ \u001b[90mInt64\u001b[39m │ \u001b[90mInt64?\u001b[39m  │ \u001b[90mInt64?\u001b[39m  │\n",
       "├─────┼──────┼───────┼───────┼───────┼─────────┼─────────┤\n",
       "│ 1   │ 'a'  │ 1     │ 6     │ 4     │ 3       │ 4       │\n",
       "│ 2   │ 'b'  │ 2     │ 5     │ 5     │ 4       │ 5       │\n",
       "│ 3   │ 'c'  │ 1     │ 4     │ 6     │ 5       │ 6       │\n",
       "│ 4   │ 'd'  │ 2     │ 3     │ 7     │ 6       │ 7       │\n",
       "│ 5   │ 'e'  │ 1     │ 2     │ 8     │ 7       │ 8       │\n",
       "│ 6   │ 'f'  │ 2     │ 1     │ 9     │ \u001b[90mmissing\u001b[39m │ \u001b[90mmissing\u001b[39m │"
      ]
     },
     "execution_count": 14,
     "metadata": {},
     "output_type": "execute_result"
    }
   ],
   "source": [
    "transform(df, :z => (v -> v .+ 1) => :z1)"
   ]
  },
  {
   "cell_type": "code",
   "execution_count": 15,
   "metadata": {},
   "outputs": [
    {
     "data": {
      "text/html": [
       "<table class=\"data-frame\"><thead><tr><th></th><th>id</th><th>grp</th><th>x_new</th><th>y</th><th>z</th></tr><tr><th></th><th>Char</th><th>Int64</th><th>Int64</th><th>Int64</th><th>Int64?</th></tr></thead><tbody><p>6 rows × 5 columns</p><tr><th>1</th><td>'a'</td><td>1</td><td>6</td><td>4</td><td>3</td></tr><tr><th>2</th><td>'b'</td><td>2</td><td>5</td><td>5</td><td>4</td></tr><tr><th>3</th><td>'c'</td><td>1</td><td>4</td><td>6</td><td>5</td></tr><tr><th>4</th><td>'d'</td><td>2</td><td>3</td><td>7</td><td>6</td></tr><tr><th>5</th><td>'e'</td><td>1</td><td>2</td><td>8</td><td>7</td></tr><tr><th>6</th><td>'f'</td><td>2</td><td>1</td><td>9</td><td><em>missing</em></td></tr></tbody></table>"
      ],
      "text/latex": [
       "\\begin{tabular}{r|ccccc}\n",
       "\t& id & grp & x\\_new & y & z\\\\\n",
       "\t\\hline\n",
       "\t& Char & Int64 & Int64 & Int64 & Int64?\\\\\n",
       "\t\\hline\n",
       "\t1 & 'a' & 1 & 6 & 4 & 3 \\\\\n",
       "\t2 & 'b' & 2 & 5 & 5 & 4 \\\\\n",
       "\t3 & 'c' & 1 & 4 & 6 & 5 \\\\\n",
       "\t4 & 'd' & 2 & 3 & 7 & 6 \\\\\n",
       "\t5 & 'e' & 1 & 2 & 8 & 7 \\\\\n",
       "\t6 & 'f' & 2 & 1 & 9 & \\emph{missing} \\\\\n",
       "\\end{tabular}\n"
      ],
      "text/plain": [
       "6×5 DataFrame\n",
       "│ Row │ id   │ grp   │ x_new │ y     │ z       │\n",
       "│     │ \u001b[90mChar\u001b[39m │ \u001b[90mInt64\u001b[39m │ \u001b[90mInt64\u001b[39m │ \u001b[90mInt64\u001b[39m │ \u001b[90mInt64?\u001b[39m  │\n",
       "├─────┼──────┼───────┼───────┼───────┼─────────┤\n",
       "│ 1   │ 'a'  │ 1     │ 6     │ 4     │ 3       │\n",
       "│ 2   │ 'b'  │ 2     │ 5     │ 5     │ 4       │\n",
       "│ 3   │ 'c'  │ 1     │ 4     │ 6     │ 5       │\n",
       "│ 4   │ 'd'  │ 2     │ 3     │ 7     │ 6       │\n",
       "│ 5   │ 'e'  │ 1     │ 2     │ 8     │ 7       │\n",
       "│ 6   │ 'f'  │ 2     │ 1     │ 9     │ \u001b[90mmissing\u001b[39m │"
      ]
     },
     "execution_count": 15,
     "metadata": {},
     "output_type": "execute_result"
    }
   ],
   "source": [
    "rename(df, :x => :x_new)"
   ]
  },
  {
   "cell_type": "code",
   "execution_count": 16,
   "metadata": {},
   "outputs": [
    {
     "data": {
      "text/html": [
       "<table class=\"data-frame\"><thead><tr><th></th><th>id</th><th>x_mean</th><th>y</th></tr><tr><th></th><th>Char</th><th>Float64</th><th>Int64</th></tr></thead><tbody><p>6 rows × 3 columns</p><tr><th>1</th><td>'a'</td><td>3.5</td><td>4</td></tr><tr><th>2</th><td>'b'</td><td>3.5</td><td>5</td></tr><tr><th>3</th><td>'c'</td><td>3.5</td><td>6</td></tr><tr><th>4</th><td>'d'</td><td>3.5</td><td>7</td></tr><tr><th>5</th><td>'e'</td><td>3.5</td><td>8</td></tr><tr><th>6</th><td>'f'</td><td>3.5</td><td>9</td></tr></tbody></table>"
      ],
      "text/latex": [
       "\\begin{tabular}{r|ccc}\n",
       "\t& id & x\\_mean & y\\\\\n",
       "\t\\hline\n",
       "\t& Char & Float64 & Int64\\\\\n",
       "\t\\hline\n",
       "\t1 & 'a' & 3.5 & 4 \\\\\n",
       "\t2 & 'b' & 3.5 & 5 \\\\\n",
       "\t3 & 'c' & 3.5 & 6 \\\\\n",
       "\t4 & 'd' & 3.5 & 7 \\\\\n",
       "\t5 & 'e' & 3.5 & 8 \\\\\n",
       "\t6 & 'f' & 3.5 & 9 \\\\\n",
       "\\end{tabular}\n"
      ],
      "text/plain": [
       "6×3 DataFrame\n",
       "│ Row │ id   │ x_mean  │ y     │\n",
       "│     │ \u001b[90mChar\u001b[39m │ \u001b[90mFloat64\u001b[39m │ \u001b[90mInt64\u001b[39m │\n",
       "├─────┼──────┼─────────┼───────┤\n",
       "│ 1   │ 'a'  │ 3.5     │ 4     │\n",
       "│ 2   │ 'b'  │ 3.5     │ 5     │\n",
       "│ 3   │ 'c'  │ 3.5     │ 6     │\n",
       "│ 4   │ 'd'  │ 3.5     │ 7     │\n",
       "│ 5   │ 'e'  │ 3.5     │ 8     │\n",
       "│ 6   │ 'f'  │ 3.5     │ 9     │"
      ]
     },
     "execution_count": 16,
     "metadata": {},
     "output_type": "execute_result"
    }
   ],
   "source": [
    "select(df, :id, :x => mean, :y)"
   ]
  },
  {
   "cell_type": "code",
   "execution_count": 17,
   "metadata": {},
   "outputs": [
    {
     "data": {
      "text/html": [
       "<table class=\"data-frame\"><thead><tr><th></th><th>id</th><th>grp</th><th>x</th><th>y</th><th>z</th></tr><tr><th></th><th>Char</th><th>Int64</th><th>Int64</th><th>Int64</th><th>Int64?</th></tr></thead><tbody><p>6 rows × 5 columns</p><tr><th>1</th><td>'f'</td><td>2</td><td>1</td><td>9</td><td><em>missing</em></td></tr><tr><th>2</th><td>'e'</td><td>1</td><td>2</td><td>8</td><td>7</td></tr><tr><th>3</th><td>'d'</td><td>2</td><td>3</td><td>7</td><td>6</td></tr><tr><th>4</th><td>'c'</td><td>1</td><td>4</td><td>6</td><td>5</td></tr><tr><th>5</th><td>'b'</td><td>2</td><td>5</td><td>5</td><td>4</td></tr><tr><th>6</th><td>'a'</td><td>1</td><td>6</td><td>4</td><td>3</td></tr></tbody></table>"
      ],
      "text/latex": [
       "\\begin{tabular}{r|ccccc}\n",
       "\t& id & grp & x & y & z\\\\\n",
       "\t\\hline\n",
       "\t& Char & Int64 & Int64 & Int64 & Int64?\\\\\n",
       "\t\\hline\n",
       "\t1 & 'f' & 2 & 1 & 9 & \\emph{missing} \\\\\n",
       "\t2 & 'e' & 1 & 2 & 8 & 7 \\\\\n",
       "\t3 & 'd' & 2 & 3 & 7 & 6 \\\\\n",
       "\t4 & 'c' & 1 & 4 & 6 & 5 \\\\\n",
       "\t5 & 'b' & 2 & 5 & 5 & 4 \\\\\n",
       "\t6 & 'a' & 1 & 6 & 4 & 3 \\\\\n",
       "\\end{tabular}\n"
      ],
      "text/plain": [
       "6×5 DataFrame\n",
       "│ Row │ id   │ grp   │ x     │ y     │ z       │\n",
       "│     │ \u001b[90mChar\u001b[39m │ \u001b[90mInt64\u001b[39m │ \u001b[90mInt64\u001b[39m │ \u001b[90mInt64\u001b[39m │ \u001b[90mInt64?\u001b[39m  │\n",
       "├─────┼──────┼───────┼───────┼───────┼─────────┤\n",
       "│ 1   │ 'f'  │ 2     │ 1     │ 9     │ \u001b[90mmissing\u001b[39m │\n",
       "│ 2   │ 'e'  │ 1     │ 2     │ 8     │ 7       │\n",
       "│ 3   │ 'd'  │ 2     │ 3     │ 7     │ 6       │\n",
       "│ 4   │ 'c'  │ 1     │ 4     │ 6     │ 5       │\n",
       "│ 5   │ 'b'  │ 2     │ 5     │ 5     │ 4       │\n",
       "│ 6   │ 'a'  │ 1     │ 6     │ 4     │ 3       │"
      ]
     },
     "execution_count": 17,
     "metadata": {},
     "output_type": "execute_result"
    }
   ],
   "source": [
    "sort(df, :x)"
   ]
  },
  {
   "cell_type": "code",
   "execution_count": 18,
   "metadata": {},
   "outputs": [
    {
     "data": {
      "text/html": [
       "<table class=\"data-frame\"><thead><tr><th></th><th>id</th><th>grp</th><th>x</th><th>y</th><th>z</th></tr><tr><th></th><th>Char</th><th>Int64</th><th>Int64</th><th>Int64</th><th>Int64?</th></tr></thead><tbody><p>6 rows × 5 columns</p><tr><th>1</th><td>'a'</td><td>1</td><td>6</td><td>4</td><td>3</td></tr><tr><th>2</th><td>'c'</td><td>1</td><td>4</td><td>6</td><td>5</td></tr><tr><th>3</th><td>'e'</td><td>1</td><td>2</td><td>8</td><td>7</td></tr><tr><th>4</th><td>'b'</td><td>2</td><td>5</td><td>5</td><td>4</td></tr><tr><th>5</th><td>'d'</td><td>2</td><td>3</td><td>7</td><td>6</td></tr><tr><th>6</th><td>'f'</td><td>2</td><td>1</td><td>9</td><td><em>missing</em></td></tr></tbody></table>"
      ],
      "text/latex": [
       "\\begin{tabular}{r|ccccc}\n",
       "\t& id & grp & x & y & z\\\\\n",
       "\t\\hline\n",
       "\t& Char & Int64 & Int64 & Int64 & Int64?\\\\\n",
       "\t\\hline\n",
       "\t1 & 'a' & 1 & 6 & 4 & 3 \\\\\n",
       "\t2 & 'c' & 1 & 4 & 6 & 5 \\\\\n",
       "\t3 & 'e' & 1 & 2 & 8 & 7 \\\\\n",
       "\t4 & 'b' & 2 & 5 & 5 & 4 \\\\\n",
       "\t5 & 'd' & 2 & 3 & 7 & 6 \\\\\n",
       "\t6 & 'f' & 2 & 1 & 9 & \\emph{missing} \\\\\n",
       "\\end{tabular}\n"
      ],
      "text/plain": [
       "6×5 DataFrame\n",
       "│ Row │ id   │ grp   │ x     │ y     │ z       │\n",
       "│     │ \u001b[90mChar\u001b[39m │ \u001b[90mInt64\u001b[39m │ \u001b[90mInt64\u001b[39m │ \u001b[90mInt64\u001b[39m │ \u001b[90mInt64?\u001b[39m  │\n",
       "├─────┼──────┼───────┼───────┼───────┼─────────┤\n",
       "│ 1   │ 'a'  │ 1     │ 6     │ 4     │ 3       │\n",
       "│ 2   │ 'c'  │ 1     │ 4     │ 6     │ 5       │\n",
       "│ 3   │ 'e'  │ 1     │ 2     │ 8     │ 7       │\n",
       "│ 4   │ 'b'  │ 2     │ 5     │ 5     │ 4       │\n",
       "│ 5   │ 'd'  │ 2     │ 3     │ 7     │ 6       │\n",
       "│ 6   │ 'f'  │ 2     │ 1     │ 9     │ \u001b[90mmissing\u001b[39m │"
      ]
     },
     "execution_count": 18,
     "metadata": {},
     "output_type": "execute_result"
    }
   ],
   "source": [
    "sort(df, [:grp, order(:x, rev = true)])"
   ]
  },
  {
   "cell_type": "markdown",
   "metadata": {},
   "source": [
    "# Grouping data and aggregation"
   ]
  },
  {
   "cell_type": "code",
   "execution_count": 19,
   "metadata": {},
   "outputs": [
    {
     "data": {
      "text/html": [
       "<table class=\"data-frame\"><thead><tr><th></th><th>grp</th><th>x_mean</th></tr><tr><th></th><th>Int64</th><th>Float64</th></tr></thead><tbody><p>2 rows × 2 columns</p><tr><th>1</th><td>1</td><td>4.0</td></tr><tr><th>2</th><td>2</td><td>3.0</td></tr></tbody></table>"
      ],
      "text/latex": [
       "\\begin{tabular}{r|cc}\n",
       "\t& grp & x\\_mean\\\\\n",
       "\t\\hline\n",
       "\t& Int64 & Float64\\\\\n",
       "\t\\hline\n",
       "\t1 & 1 & 4.0 \\\\\n",
       "\t2 & 2 & 3.0 \\\\\n",
       "\\end{tabular}\n"
      ],
      "text/plain": [
       "2×2 DataFrame\n",
       "│ Row │ grp   │ x_mean  │\n",
       "│     │ \u001b[90mInt64\u001b[39m │ \u001b[90mFloat64\u001b[39m │\n",
       "├─────┼───────┼─────────┤\n",
       "│ 1   │ 1     │ 4.0     │\n",
       "│ 2   │ 2     │ 3.0     │"
      ]
     },
     "execution_count": 19,
     "metadata": {},
     "output_type": "execute_result"
    }
   ],
   "source": [
    "combine(groupby(df, :grp), :x => mean)"
   ]
  },
  {
   "cell_type": "code",
   "execution_count": 20,
   "metadata": {},
   "outputs": [
    {
     "data": {
      "text/html": [
       "<table class=\"data-frame\"><thead><tr><th></th><th>grp</th><th>my_mean</th></tr><tr><th></th><th>Int64</th><th>Float64</th></tr></thead><tbody><p>2 rows × 2 columns</p><tr><th>1</th><td>1</td><td>4.0</td></tr><tr><th>2</th><td>2</td><td>3.0</td></tr></tbody></table>"
      ],
      "text/latex": [
       "\\begin{tabular}{r|cc}\n",
       "\t& grp & my\\_mean\\\\\n",
       "\t\\hline\n",
       "\t& Int64 & Float64\\\\\n",
       "\t\\hline\n",
       "\t1 & 1 & 4.0 \\\\\n",
       "\t2 & 2 & 3.0 \\\\\n",
       "\\end{tabular}\n"
      ],
      "text/plain": [
       "2×2 DataFrame\n",
       "│ Row │ grp   │ my_mean │\n",
       "│     │ \u001b[90mInt64\u001b[39m │ \u001b[90mFloat64\u001b[39m │\n",
       "├─────┼───────┼─────────┤\n",
       "│ 1   │ 1     │ 4.0     │\n",
       "│ 2   │ 2     │ 3.0     │"
      ]
     },
     "execution_count": 20,
     "metadata": {},
     "output_type": "execute_result"
    }
   ],
   "source": [
    "combine(groupby(df, :grp), :x => mean => :my_mean)"
   ]
  },
  {
   "cell_type": "code",
   "execution_count": 21,
   "metadata": {},
   "outputs": [
    {
     "data": {
      "text/html": [
       "<table class=\"data-frame\"><thead><tr><th></th><th>id</th><th>grp</th><th>x</th><th>y</th><th>z</th><th>x_mean</th></tr><tr><th></th><th>Char</th><th>Int64</th><th>Int64</th><th>Int64</th><th>Int64?</th><th>Float64</th></tr></thead><tbody><p>6 rows × 6 columns</p><tr><th>1</th><td>'a'</td><td>1</td><td>6</td><td>4</td><td>3</td><td>4.0</td></tr><tr><th>2</th><td>'b'</td><td>2</td><td>5</td><td>5</td><td>4</td><td>3.0</td></tr><tr><th>3</th><td>'c'</td><td>1</td><td>4</td><td>6</td><td>5</td><td>4.0</td></tr><tr><th>4</th><td>'d'</td><td>2</td><td>3</td><td>7</td><td>6</td><td>3.0</td></tr><tr><th>5</th><td>'e'</td><td>1</td><td>2</td><td>8</td><td>7</td><td>4.0</td></tr><tr><th>6</th><td>'f'</td><td>2</td><td>1</td><td>9</td><td><em>missing</em></td><td>3.0</td></tr></tbody></table>"
      ],
      "text/latex": [
       "\\begin{tabular}{r|cccccc}\n",
       "\t& id & grp & x & y & z & x\\_mean\\\\\n",
       "\t\\hline\n",
       "\t& Char & Int64 & Int64 & Int64 & Int64? & Float64\\\\\n",
       "\t\\hline\n",
       "\t1 & 'a' & 1 & 6 & 4 & 3 & 4.0 \\\\\n",
       "\t2 & 'b' & 2 & 5 & 5 & 4 & 3.0 \\\\\n",
       "\t3 & 'c' & 1 & 4 & 6 & 5 & 4.0 \\\\\n",
       "\t4 & 'd' & 2 & 3 & 7 & 6 & 3.0 \\\\\n",
       "\t5 & 'e' & 1 & 2 & 8 & 7 & 4.0 \\\\\n",
       "\t6 & 'f' & 2 & 1 & 9 & \\emph{missing} & 3.0 \\\\\n",
       "\\end{tabular}\n"
      ],
      "text/plain": [
       "6×6 DataFrame\n",
       "│ Row │ id   │ grp   │ x     │ y     │ z       │ x_mean  │\n",
       "│     │ \u001b[90mChar\u001b[39m │ \u001b[90mInt64\u001b[39m │ \u001b[90mInt64\u001b[39m │ \u001b[90mInt64\u001b[39m │ \u001b[90mInt64?\u001b[39m  │ \u001b[90mFloat64\u001b[39m │\n",
       "├─────┼──────┼───────┼───────┼───────┼─────────┼─────────┤\n",
       "│ 1   │ 'a'  │ 1     │ 6     │ 4     │ 3       │ 4.0     │\n",
       "│ 2   │ 'b'  │ 2     │ 5     │ 5     │ 4       │ 3.0     │\n",
       "│ 3   │ 'c'  │ 1     │ 4     │ 6     │ 5       │ 4.0     │\n",
       "│ 4   │ 'd'  │ 2     │ 3     │ 7     │ 6       │ 3.0     │\n",
       "│ 5   │ 'e'  │ 1     │ 2     │ 8     │ 7       │ 4.0     │\n",
       "│ 6   │ 'f'  │ 2     │ 1     │ 9     │ \u001b[90mmissing\u001b[39m │ 3.0     │"
      ]
     },
     "execution_count": 21,
     "metadata": {},
     "output_type": "execute_result"
    }
   ],
   "source": [
    "transform(groupby(df, :grp), :x => mean)"
   ]
  },
  {
   "cell_type": "code",
   "execution_count": 22,
   "metadata": {},
   "outputs": [
    {
     "data": {
      "text/html": [
       "<table class=\"data-frame\"><thead><tr><th></th><th>grp</th><th>id</th><th>x_mean</th></tr><tr><th></th><th>Int64</th><th>Char</th><th>Float64</th></tr></thead><tbody><p>6 rows × 3 columns</p><tr><th>1</th><td>1</td><td>'a'</td><td>4.0</td></tr><tr><th>2</th><td>2</td><td>'b'</td><td>3.0</td></tr><tr><th>3</th><td>1</td><td>'c'</td><td>4.0</td></tr><tr><th>4</th><td>2</td><td>'d'</td><td>3.0</td></tr><tr><th>5</th><td>1</td><td>'e'</td><td>4.0</td></tr><tr><th>6</th><td>2</td><td>'f'</td><td>3.0</td></tr></tbody></table>"
      ],
      "text/latex": [
       "\\begin{tabular}{r|ccc}\n",
       "\t& grp & id & x\\_mean\\\\\n",
       "\t\\hline\n",
       "\t& Int64 & Char & Float64\\\\\n",
       "\t\\hline\n",
       "\t1 & 1 & 'a' & 4.0 \\\\\n",
       "\t2 & 2 & 'b' & 3.0 \\\\\n",
       "\t3 & 1 & 'c' & 4.0 \\\\\n",
       "\t4 & 2 & 'd' & 3.0 \\\\\n",
       "\t5 & 1 & 'e' & 4.0 \\\\\n",
       "\t6 & 2 & 'f' & 3.0 \\\\\n",
       "\\end{tabular}\n"
      ],
      "text/plain": [
       "6×3 DataFrame\n",
       "│ Row │ grp   │ id   │ x_mean  │\n",
       "│     │ \u001b[90mInt64\u001b[39m │ \u001b[90mChar\u001b[39m │ \u001b[90mFloat64\u001b[39m │\n",
       "├─────┼───────┼──────┼─────────┤\n",
       "│ 1   │ 1     │ 'a'  │ 4.0     │\n",
       "│ 2   │ 2     │ 'b'  │ 3.0     │\n",
       "│ 3   │ 1     │ 'c'  │ 4.0     │\n",
       "│ 4   │ 2     │ 'd'  │ 3.0     │\n",
       "│ 5   │ 1     │ 'e'  │ 4.0     │\n",
       "│ 6   │ 2     │ 'f'  │ 3.0     │"
      ]
     },
     "execution_count": 22,
     "metadata": {},
     "output_type": "execute_result"
    }
   ],
   "source": [
    "select(groupby(df, :grp), :id, :x => mean)"
   ]
  },
  {
   "cell_type": "markdown",
   "metadata": {},
   "source": [
    "# More advanced commands"
   ]
  },
  {
   "cell_type": "code",
   "execution_count": 23,
   "metadata": {},
   "outputs": [
    {
     "data": {
      "text/html": [
       "<table class=\"data-frame\"><thead><tr><th></th><th>z_function</th></tr><tr><th></th><th>Float64</th></tr></thead><tbody><p>1 rows × 1 columns</p><tr><th>1</th><td>0.0708197</td></tr></tbody></table>"
      ],
      "text/latex": [
       "\\begin{tabular}{r|c}\n",
       "\t& z\\_function\\\\\n",
       "\t\\hline\n",
       "\t& Float64\\\\\n",
       "\t\\hline\n",
       "\t1 & 0.0708197 \\\\\n",
       "\\end{tabular}\n"
      ],
      "text/plain": [
       "1×1 DataFrame\n",
       "│ Row │ z_function │\n",
       "│     │ \u001b[90mFloat64\u001b[39m    │\n",
       "├─────┼────────────┤\n",
       "│ 1   │ 0.0708197  │"
      ]
     },
     "execution_count": 23,
     "metadata": {},
     "output_type": "execute_result"
    }
   ],
   "source": [
    "combine(df, :z => v -> mean(cos, skipmissing(v)))"
   ]
  },
  {
   "cell_type": "code",
   "execution_count": 24,
   "metadata": {},
   "outputs": [
    {
     "data": {
      "text/html": [
       "<table class=\"data-frame\"><thead><tr><th></th><th>x_maximum</th><th>y_minimum</th></tr><tr><th></th><th>Int64</th><th>Int64</th></tr></thead><tbody><p>1 rows × 2 columns</p><tr><th>1</th><td>6</td><td>4</td></tr></tbody></table>"
      ],
      "text/latex": [
       "\\begin{tabular}{r|cc}\n",
       "\t& x\\_maximum & y\\_minimum\\\\\n",
       "\t\\hline\n",
       "\t& Int64 & Int64\\\\\n",
       "\t\\hline\n",
       "\t1 & 6 & 4 \\\\\n",
       "\\end{tabular}\n"
      ],
      "text/plain": [
       "1×2 DataFrame\n",
       "│ Row │ x_maximum │ y_minimum │\n",
       "│     │ \u001b[90mInt64\u001b[39m     │ \u001b[90mInt64\u001b[39m     │\n",
       "├─────┼───────────┼───────────┤\n",
       "│ 1   │ 6         │ 4         │"
      ]
     },
     "execution_count": 24,
     "metadata": {},
     "output_type": "execute_result"
    }
   ],
   "source": [
    "combine(df, :x => maximum, :y => minimum)"
   ]
  },
  {
   "cell_type": "code",
   "execution_count": 25,
   "metadata": {},
   "outputs": [
    {
     "data": {
      "text/html": [
       "<table class=\"data-frame\"><thead><tr><th></th><th>x_mean</th><th>y_mean</th></tr><tr><th></th><th>Float64</th><th>Float64</th></tr></thead><tbody><p>1 rows × 2 columns</p><tr><th>1</th><td>3.5</td><td>6.5</td></tr></tbody></table>"
      ],
      "text/latex": [
       "\\begin{tabular}{r|cc}\n",
       "\t& x\\_mean & y\\_mean\\\\\n",
       "\t\\hline\n",
       "\t& Float64 & Float64\\\\\n",
       "\t\\hline\n",
       "\t1 & 3.5 & 6.5 \\\\\n",
       "\\end{tabular}\n"
      ],
      "text/plain": [
       "1×2 DataFrame\n",
       "│ Row │ x_mean  │ y_mean  │\n",
       "│     │ \u001b[90mFloat64\u001b[39m │ \u001b[90mFloat64\u001b[39m │\n",
       "├─────┼─────────┼─────────┤\n",
       "│ 1   │ 3.5     │ 6.5     │"
      ]
     },
     "execution_count": 25,
     "metadata": {},
     "output_type": "execute_result"
    }
   ],
   "source": [
    "combine(df, [:x, :y] .=> mean)"
   ]
  },
  {
   "cell_type": "code",
   "execution_count": 26,
   "metadata": {},
   "outputs": [
    {
     "data": {
      "text/html": [
       "<table class=\"data-frame\"><thead><tr><th></th><th>x</th><th>y</th></tr><tr><th></th><th>Float64</th><th>Float64</th></tr></thead><tbody><p>1 rows × 2 columns</p><tr><th>1</th><td>3.5</td><td>6.5</td></tr></tbody></table>"
      ],
      "text/latex": [
       "\\begin{tabular}{r|cc}\n",
       "\t& x & y\\\\\n",
       "\t\\hline\n",
       "\t& Float64 & Float64\\\\\n",
       "\t\\hline\n",
       "\t1 & 3.5 & 6.5 \\\\\n",
       "\\end{tabular}\n"
      ],
      "text/plain": [
       "1×2 DataFrame\n",
       "│ Row │ x       │ y       │\n",
       "│     │ \u001b[90mFloat64\u001b[39m │ \u001b[90mFloat64\u001b[39m │\n",
       "├─────┼─────────┼─────────┤\n",
       "│ 1   │ 3.5     │ 6.5     │"
      ]
     },
     "execution_count": 26,
     "metadata": {},
     "output_type": "execute_result"
    }
   ],
   "source": [
    "combine(v -> mapcols(mean, v), select(df, r\"[xy]\"))"
   ]
  },
  {
   "cell_type": "code",
   "execution_count": 27,
   "metadata": {},
   "outputs": [
    {
     "data": {
      "text/html": [
       "<table class=\"data-frame\"><thead><tr><th></th><th>agg</th><th>x</th><th>y</th></tr><tr><th></th><th>String</th><th>Int64</th><th>Int64</th></tr></thead><tbody><p>2 rows × 3 columns</p><tr><th>1</th><td>maximum</td><td>6</td><td>9</td></tr><tr><th>2</th><td>minimum</td><td>1</td><td>4</td></tr></tbody></table>"
      ],
      "text/latex": [
       "\\begin{tabular}{r|ccc}\n",
       "\t& agg & x & y\\\\\n",
       "\t\\hline\n",
       "\t& String & Int64 & Int64\\\\\n",
       "\t\\hline\n",
       "\t1 & maximum & 6 & 9 \\\\\n",
       "\t2 & minimum & 1 & 4 \\\\\n",
       "\\end{tabular}\n"
      ],
      "text/plain": [
       "2×3 DataFrame\n",
       "│ Row │ agg     │ x     │ y     │\n",
       "│     │ \u001b[90mString\u001b[39m  │ \u001b[90mInt64\u001b[39m │ \u001b[90mInt64\u001b[39m │\n",
       "├─────┼─────────┼───────┼───────┤\n",
       "│ 1   │ maximum │ 6     │ 9     │\n",
       "│ 2   │ minimum │ 1     │ 4     │"
      ]
     },
     "execution_count": 27,
     "metadata": {},
     "output_type": "execute_result"
    }
   ],
   "source": [
    "# combine(df, ([:x, :y] .=> [maximum minimum])...)  # this doesn't match pandas' shape\n",
    "DataFrame([(agg=\"$f\", x=f(df.x), y=f(df.y)) for f in [maximum, minimum]])"
   ]
  },
  {
   "cell_type": "code",
   "execution_count": 28,
   "metadata": {},
   "outputs": [
    {
     "data": {
      "text/html": [
       "<table class=\"data-frame\"><thead><tr><th></th><th>id</th><th>grp</th><th>x</th><th>y</th><th>z</th><th>x_y_cor</th></tr><tr><th></th><th>Char</th><th>Int64</th><th>Int64</th><th>Int64</th><th>Int64?</th><th>Float64</th></tr></thead><tbody><p>6 rows × 6 columns</p><tr><th>1</th><td>'a'</td><td>1</td><td>6</td><td>4</td><td>3</td><td>-1.0</td></tr><tr><th>2</th><td>'b'</td><td>2</td><td>5</td><td>5</td><td>4</td><td>-1.0</td></tr><tr><th>3</th><td>'c'</td><td>1</td><td>4</td><td>6</td><td>5</td><td>-1.0</td></tr><tr><th>4</th><td>'d'</td><td>2</td><td>3</td><td>7</td><td>6</td><td>-1.0</td></tr><tr><th>5</th><td>'e'</td><td>1</td><td>2</td><td>8</td><td>7</td><td>-1.0</td></tr><tr><th>6</th><td>'f'</td><td>2</td><td>1</td><td>9</td><td><em>missing</em></td><td>-1.0</td></tr></tbody></table>"
      ],
      "text/latex": [
       "\\begin{tabular}{r|cccccc}\n",
       "\t& id & grp & x & y & z & x\\_y\\_cor\\\\\n",
       "\t\\hline\n",
       "\t& Char & Int64 & Int64 & Int64 & Int64? & Float64\\\\\n",
       "\t\\hline\n",
       "\t1 & 'a' & 1 & 6 & 4 & 3 & -1.0 \\\\\n",
       "\t2 & 'b' & 2 & 5 & 5 & 4 & -1.0 \\\\\n",
       "\t3 & 'c' & 1 & 4 & 6 & 5 & -1.0 \\\\\n",
       "\t4 & 'd' & 2 & 3 & 7 & 6 & -1.0 \\\\\n",
       "\t5 & 'e' & 1 & 2 & 8 & 7 & -1.0 \\\\\n",
       "\t6 & 'f' & 2 & 1 & 9 & \\emph{missing} & -1.0 \\\\\n",
       "\\end{tabular}\n"
      ],
      "text/plain": [
       "6×6 DataFrame\n",
       "│ Row │ id   │ grp   │ x     │ y     │ z       │ x_y_cor │\n",
       "│     │ \u001b[90mChar\u001b[39m │ \u001b[90mInt64\u001b[39m │ \u001b[90mInt64\u001b[39m │ \u001b[90mInt64\u001b[39m │ \u001b[90mInt64?\u001b[39m  │ \u001b[90mFloat64\u001b[39m │\n",
       "├─────┼──────┼───────┼───────┼───────┼─────────┼─────────┤\n",
       "│ 1   │ 'a'  │ 1     │ 6     │ 4     │ 3       │ -1.0    │\n",
       "│ 2   │ 'b'  │ 2     │ 5     │ 5     │ 4       │ -1.0    │\n",
       "│ 3   │ 'c'  │ 1     │ 4     │ 6     │ 5       │ -1.0    │\n",
       "│ 4   │ 'd'  │ 2     │ 3     │ 7     │ 6       │ -1.0    │\n",
       "│ 5   │ 'e'  │ 1     │ 2     │ 8     │ 7       │ -1.0    │\n",
       "│ 6   │ 'f'  │ 2     │ 1     │ 9     │ \u001b[90mmissing\u001b[39m │ -1.0    │"
      ]
     },
     "execution_count": 28,
     "metadata": {},
     "output_type": "execute_result"
    }
   ],
   "source": [
    "transform(df, [:x, :y] => cor)"
   ]
  },
  {
   "cell_type": "code",
   "execution_count": 29,
   "metadata": {},
   "outputs": [
    {
     "data": {
      "text/html": [
       "<table class=\"data-frame\"><thead><tr><th></th><th>id</th><th>grp</th><th>x</th><th>y</th><th>z</th><th>x_y_min</th></tr><tr><th></th><th>Char</th><th>Int64</th><th>Int64</th><th>Int64</th><th>Int64?</th><th>Int64</th></tr></thead><tbody><p>6 rows × 6 columns</p><tr><th>1</th><td>'a'</td><td>1</td><td>6</td><td>4</td><td>3</td><td>4</td></tr><tr><th>2</th><td>'b'</td><td>2</td><td>5</td><td>5</td><td>4</td><td>5</td></tr><tr><th>3</th><td>'c'</td><td>1</td><td>4</td><td>6</td><td>5</td><td>4</td></tr><tr><th>4</th><td>'d'</td><td>2</td><td>3</td><td>7</td><td>6</td><td>3</td></tr><tr><th>5</th><td>'e'</td><td>1</td><td>2</td><td>8</td><td>7</td><td>2</td></tr><tr><th>6</th><td>'f'</td><td>2</td><td>1</td><td>9</td><td><em>missing</em></td><td>1</td></tr></tbody></table>"
      ],
      "text/latex": [
       "\\begin{tabular}{r|cccccc}\n",
       "\t& id & grp & x & y & z & x\\_y\\_min\\\\\n",
       "\t\\hline\n",
       "\t& Char & Int64 & Int64 & Int64 & Int64? & Int64\\\\\n",
       "\t\\hline\n",
       "\t1 & 'a' & 1 & 6 & 4 & 3 & 4 \\\\\n",
       "\t2 & 'b' & 2 & 5 & 5 & 4 & 5 \\\\\n",
       "\t3 & 'c' & 1 & 4 & 6 & 5 & 4 \\\\\n",
       "\t4 & 'd' & 2 & 3 & 7 & 6 & 3 \\\\\n",
       "\t5 & 'e' & 1 & 2 & 8 & 7 & 2 \\\\\n",
       "\t6 & 'f' & 2 & 1 & 9 & \\emph{missing} & 1 \\\\\n",
       "\\end{tabular}\n"
      ],
      "text/plain": [
       "6×6 DataFrame\n",
       "│ Row │ id   │ grp   │ x     │ y     │ z       │ x_y_min │\n",
       "│     │ \u001b[90mChar\u001b[39m │ \u001b[90mInt64\u001b[39m │ \u001b[90mInt64\u001b[39m │ \u001b[90mInt64\u001b[39m │ \u001b[90mInt64?\u001b[39m  │ \u001b[90mInt64\u001b[39m   │\n",
       "├─────┼──────┼───────┼───────┼───────┼─────────┼─────────┤\n",
       "│ 1   │ 'a'  │ 1     │ 6     │ 4     │ 3       │ 4       │\n",
       "│ 2   │ 'b'  │ 2     │ 5     │ 5     │ 4       │ 5       │\n",
       "│ 3   │ 'c'  │ 1     │ 4     │ 6     │ 5       │ 4       │\n",
       "│ 4   │ 'd'  │ 2     │ 3     │ 7     │ 6       │ 3       │\n",
       "│ 5   │ 'e'  │ 1     │ 2     │ 8     │ 7       │ 2       │\n",
       "│ 6   │ 'f'  │ 2     │ 1     │ 9     │ \u001b[90mmissing\u001b[39m │ 1       │"
      ]
     },
     "execution_count": 29,
     "metadata": {},
     "output_type": "execute_result"
    }
   ],
   "source": [
    "transform(df, [:x, :y] => ByRow(min))"
   ]
  },
  {
   "cell_type": "code",
   "execution_count": 30,
   "metadata": {},
   "outputs": [
    {
     "data": {
      "text/html": [
       "<table class=\"data-frame\"><thead><tr><th></th><th>id</th><th>grp</th><th>x</th><th>y</th><th>z</th><th>x_y_argmax</th></tr><tr><th></th><th>Char</th><th>Int64</th><th>Int64</th><th>Int64</th><th>Int64?</th><th>Symbol</th></tr></thead><tbody><p>6 rows × 6 columns</p><tr><th>1</th><td>'a'</td><td>1</td><td>6</td><td>4</td><td>3</td><td>x</td></tr><tr><th>2</th><td>'b'</td><td>2</td><td>5</td><td>5</td><td>4</td><td>x</td></tr><tr><th>3</th><td>'c'</td><td>1</td><td>4</td><td>6</td><td>5</td><td>y</td></tr><tr><th>4</th><td>'d'</td><td>2</td><td>3</td><td>7</td><td>6</td><td>y</td></tr><tr><th>5</th><td>'e'</td><td>1</td><td>2</td><td>8</td><td>7</td><td>y</td></tr><tr><th>6</th><td>'f'</td><td>2</td><td>1</td><td>9</td><td><em>missing</em></td><td>y</td></tr></tbody></table>"
      ],
      "text/latex": [
       "\\begin{tabular}{r|cccccc}\n",
       "\t& id & grp & x & y & z & x\\_y\\_argmax\\\\\n",
       "\t\\hline\n",
       "\t& Char & Int64 & Int64 & Int64 & Int64? & Symbol\\\\\n",
       "\t\\hline\n",
       "\t1 & 'a' & 1 & 6 & 4 & 3 & x \\\\\n",
       "\t2 & 'b' & 2 & 5 & 5 & 4 & x \\\\\n",
       "\t3 & 'c' & 1 & 4 & 6 & 5 & y \\\\\n",
       "\t4 & 'd' & 2 & 3 & 7 & 6 & y \\\\\n",
       "\t5 & 'e' & 1 & 2 & 8 & 7 & y \\\\\n",
       "\t6 & 'f' & 2 & 1 & 9 & \\emph{missing} & y \\\\\n",
       "\\end{tabular}\n"
      ],
      "text/plain": [
       "6×6 DataFrame\n",
       "│ Row │ id   │ grp   │ x     │ y     │ z       │ x_y_argmax │\n",
       "│     │ \u001b[90mChar\u001b[39m │ \u001b[90mInt64\u001b[39m │ \u001b[90mInt64\u001b[39m │ \u001b[90mInt64\u001b[39m │ \u001b[90mInt64?\u001b[39m  │ \u001b[90mSymbol\u001b[39m     │\n",
       "├─────┼──────┼───────┼───────┼───────┼─────────┼────────────┤\n",
       "│ 1   │ 'a'  │ 1     │ 6     │ 4     │ 3       │ x          │\n",
       "│ 2   │ 'b'  │ 2     │ 5     │ 5     │ 4       │ x          │\n",
       "│ 3   │ 'c'  │ 1     │ 4     │ 6     │ 5       │ y          │\n",
       "│ 4   │ 'd'  │ 2     │ 3     │ 7     │ 6       │ y          │\n",
       "│ 5   │ 'e'  │ 1     │ 2     │ 8     │ 7       │ y          │\n",
       "│ 6   │ 'f'  │ 2     │ 1     │ 9     │ \u001b[90mmissing\u001b[39m │ y          │"
      ]
     },
     "execution_count": 30,
     "metadata": {},
     "output_type": "execute_result"
    }
   ],
   "source": [
    "transform(df, AsTable([:x,:y]) => ByRow(argmax))"
   ]
  },
  {
   "cell_type": "code",
   "execution_count": 31,
   "metadata": {},
   "outputs": [
    {
     "data": {
      "text/html": [
       "<table class=\"data-frame\"><thead><tr><th></th><th>grp</th><th>id</th><th>x</th><th>y</th><th>z</th></tr><tr><th></th><th>Int64</th><th>Char</th><th>Int64</th><th>Int64</th><th>Int64?</th></tr></thead><tbody><p>4 rows × 5 columns</p><tr><th>1</th><td>1</td><td>'a'</td><td>6</td><td>4</td><td>3</td></tr><tr><th>2</th><td>1</td><td>'c'</td><td>4</td><td>6</td><td>5</td></tr><tr><th>3</th><td>2</td><td>'b'</td><td>5</td><td>5</td><td>4</td></tr><tr><th>4</th><td>2</td><td>'d'</td><td>3</td><td>7</td><td>6</td></tr></tbody></table>"
      ],
      "text/latex": [
       "\\begin{tabular}{r|ccccc}\n",
       "\t& grp & id & x & y & z\\\\\n",
       "\t\\hline\n",
       "\t& Int64 & Char & Int64 & Int64 & Int64?\\\\\n",
       "\t\\hline\n",
       "\t1 & 1 & 'a' & 6 & 4 & 3 \\\\\n",
       "\t2 & 1 & 'c' & 4 & 6 & 5 \\\\\n",
       "\t3 & 2 & 'b' & 5 & 5 & 4 \\\\\n",
       "\t4 & 2 & 'd' & 3 & 7 & 6 \\\\\n",
       "\\end{tabular}\n"
      ],
      "text/plain": [
       "4×5 DataFrame\n",
       "│ Row │ grp   │ id   │ x     │ y     │ z      │\n",
       "│     │ \u001b[90mInt64\u001b[39m │ \u001b[90mChar\u001b[39m │ \u001b[90mInt64\u001b[39m │ \u001b[90mInt64\u001b[39m │ \u001b[90mInt64?\u001b[39m │\n",
       "├─────┼───────┼──────┼───────┼───────┼────────┤\n",
       "│ 1   │ 1     │ 'a'  │ 6     │ 4     │ 3      │\n",
       "│ 2   │ 1     │ 'c'  │ 4     │ 6     │ 5      │\n",
       "│ 3   │ 2     │ 'b'  │ 5     │ 5     │ 4      │\n",
       "│ 4   │ 2     │ 'd'  │ 3     │ 7     │ 6      │"
      ]
     },
     "execution_count": 31,
     "metadata": {},
     "output_type": "execute_result"
    }
   ],
   "source": [
    "combine(d -> first(d, 2), groupby(df, :grp))"
   ]
  },
  {
   "cell_type": "code",
   "execution_count": 32,
   "metadata": {},
   "outputs": [
    {
     "data": {
      "text/html": [
       "<table class=\"data-frame\"><thead><tr><th></th><th>x</th></tr><tr><th></th><th>Int64</th></tr></thead><tbody><p>2 rows × 1 columns</p><tr><th>1</th><td>1</td></tr><tr><th>2</th><td>6</td></tr></tbody></table>"
      ],
      "text/latex": [
       "\\begin{tabular}{r|c}\n",
       "\t& x\\\\\n",
       "\t\\hline\n",
       "\t& Int64\\\\\n",
       "\t\\hline\n",
       "\t1 & 1 \\\\\n",
       "\t2 & 6 \\\\\n",
       "\\end{tabular}\n"
      ],
      "text/plain": [
       "2×1 DataFrame\n",
       "│ Row │ x     │\n",
       "│     │ \u001b[90mInt64\u001b[39m │\n",
       "├─────┼───────┤\n",
       "│ 1   │ 1     │\n",
       "│ 2   │ 6     │"
      ]
     },
     "execution_count": 32,
     "metadata": {},
     "output_type": "execute_result"
    }
   ],
   "source": [
    "combine(:x => x -> (x = [minimum(x), maximum(x)],), df)"
   ]
  },
  {
   "cell_type": "markdown",
   "metadata": {},
   "source": [
    "# Joining data frames"
   ]
  },
  {
   "cell_type": "code",
   "execution_count": 33,
   "metadata": {},
   "outputs": [
    {
     "data": {
      "text/html": [
       "<table class=\"data-frame\"><thead><tr><th></th><th>grp</th><th>w</th></tr><tr><th></th><th>Int64</th><th>Int64</th></tr></thead><tbody><p>2 rows × 2 columns</p><tr><th>1</th><td>1</td><td>10</td></tr><tr><th>2</th><td>3</td><td>11</td></tr></tbody></table>"
      ],
      "text/latex": [
       "\\begin{tabular}{r|cc}\n",
       "\t& grp & w\\\\\n",
       "\t\\hline\n",
       "\t& Int64 & Int64\\\\\n",
       "\t\\hline\n",
       "\t1 & 1 & 10 \\\\\n",
       "\t2 & 3 & 11 \\\\\n",
       "\\end{tabular}\n"
      ],
      "text/plain": [
       "2×2 DataFrame\n",
       "│ Row │ grp   │ w     │\n",
       "│     │ \u001b[90mInt64\u001b[39m │ \u001b[90mInt64\u001b[39m │\n",
       "├─────┼───────┼───────┤\n",
       "│ 1   │ 1     │ 10    │\n",
       "│ 2   │ 3     │ 11    │"
      ]
     },
     "execution_count": 33,
     "metadata": {},
     "output_type": "execute_result"
    }
   ],
   "source": [
    "# Preparation\n",
    "df2 = DataFrame(grp = [1, 3], w = [10, 11])"
   ]
  },
  {
   "cell_type": "code",
   "execution_count": 34,
   "metadata": {},
   "outputs": [
    {
     "data": {
      "text/html": [
       "<table class=\"data-frame\"><thead><tr><th></th><th>id</th><th>grp</th><th>x</th><th>y</th><th>z</th><th>w</th></tr><tr><th></th><th>Char</th><th>Int64</th><th>Int64</th><th>Int64</th><th>Int64?</th><th>Int64</th></tr></thead><tbody><p>3 rows × 6 columns</p><tr><th>1</th><td>'a'</td><td>1</td><td>6</td><td>4</td><td>3</td><td>10</td></tr><tr><th>2</th><td>'c'</td><td>1</td><td>4</td><td>6</td><td>5</td><td>10</td></tr><tr><th>3</th><td>'e'</td><td>1</td><td>2</td><td>8</td><td>7</td><td>10</td></tr></tbody></table>"
      ],
      "text/latex": [
       "\\begin{tabular}{r|cccccc}\n",
       "\t& id & grp & x & y & z & w\\\\\n",
       "\t\\hline\n",
       "\t& Char & Int64 & Int64 & Int64 & Int64? & Int64\\\\\n",
       "\t\\hline\n",
       "\t1 & 'a' & 1 & 6 & 4 & 3 & 10 \\\\\n",
       "\t2 & 'c' & 1 & 4 & 6 & 5 & 10 \\\\\n",
       "\t3 & 'e' & 1 & 2 & 8 & 7 & 10 \\\\\n",
       "\\end{tabular}\n"
      ],
      "text/plain": [
       "3×6 DataFrame\n",
       "│ Row │ id   │ grp   │ x     │ y     │ z      │ w     │\n",
       "│     │ \u001b[90mChar\u001b[39m │ \u001b[90mInt64\u001b[39m │ \u001b[90mInt64\u001b[39m │ \u001b[90mInt64\u001b[39m │ \u001b[90mInt64?\u001b[39m │ \u001b[90mInt64\u001b[39m │\n",
       "├─────┼──────┼───────┼───────┼───────┼────────┼───────┤\n",
       "│ 1   │ 'a'  │ 1     │ 6     │ 4     │ 3      │ 10    │\n",
       "│ 2   │ 'c'  │ 1     │ 4     │ 6     │ 5      │ 10    │\n",
       "│ 3   │ 'e'  │ 1     │ 2     │ 8     │ 7      │ 10    │"
      ]
     },
     "execution_count": 34,
     "metadata": {},
     "output_type": "execute_result"
    }
   ],
   "source": [
    "innerjoin(df, df2, on = :grp)"
   ]
  },
  {
   "cell_type": "code",
   "execution_count": 35,
   "metadata": {},
   "outputs": [
    {
     "data": {
      "text/html": [
       "<table class=\"data-frame\"><thead><tr><th></th><th>id</th><th>grp</th><th>x</th><th>y</th><th>z</th><th>w</th></tr><tr><th></th><th>Char?</th><th>Int64</th><th>Int64?</th><th>Int64?</th><th>Int64?</th><th>Int64?</th></tr></thead><tbody><p>7 rows × 6 columns</p><tr><th>1</th><td>'a'</td><td>1</td><td>6</td><td>4</td><td>3</td><td>10</td></tr><tr><th>2</th><td>'b'</td><td>2</td><td>5</td><td>5</td><td>4</td><td><em>missing</em></td></tr><tr><th>3</th><td>'c'</td><td>1</td><td>4</td><td>6</td><td>5</td><td>10</td></tr><tr><th>4</th><td>'d'</td><td>2</td><td>3</td><td>7</td><td>6</td><td><em>missing</em></td></tr><tr><th>5</th><td>'e'</td><td>1</td><td>2</td><td>8</td><td>7</td><td>10</td></tr><tr><th>6</th><td>'f'</td><td>2</td><td>1</td><td>9</td><td><em>missing</em></td><td><em>missing</em></td></tr><tr><th>7</th><td><em>missing</em></td><td>3</td><td><em>missing</em></td><td><em>missing</em></td><td><em>missing</em></td><td>11</td></tr></tbody></table>"
      ],
      "text/latex": [
       "\\begin{tabular}{r|cccccc}\n",
       "\t& id & grp & x & y & z & w\\\\\n",
       "\t\\hline\n",
       "\t& Char? & Int64 & Int64? & Int64? & Int64? & Int64?\\\\\n",
       "\t\\hline\n",
       "\t1 & 'a' & 1 & 6 & 4 & 3 & 10 \\\\\n",
       "\t2 & 'b' & 2 & 5 & 5 & 4 & \\emph{missing} \\\\\n",
       "\t3 & 'c' & 1 & 4 & 6 & 5 & 10 \\\\\n",
       "\t4 & 'd' & 2 & 3 & 7 & 6 & \\emph{missing} \\\\\n",
       "\t5 & 'e' & 1 & 2 & 8 & 7 & 10 \\\\\n",
       "\t6 & 'f' & 2 & 1 & 9 & \\emph{missing} & \\emph{missing} \\\\\n",
       "\t7 & \\emph{missing} & 3 & \\emph{missing} & \\emph{missing} & \\emph{missing} & 11 \\\\\n",
       "\\end{tabular}\n"
      ],
      "text/plain": [
       "7×6 DataFrame\n",
       "│ Row │ id      │ grp   │ x       │ y       │ z       │ w       │\n",
       "│     │ \u001b[90mChar?\u001b[39m   │ \u001b[90mInt64\u001b[39m │ \u001b[90mInt64?\u001b[39m  │ \u001b[90mInt64?\u001b[39m  │ \u001b[90mInt64?\u001b[39m  │ \u001b[90mInt64?\u001b[39m  │\n",
       "├─────┼─────────┼───────┼─────────┼─────────┼─────────┼─────────┤\n",
       "│ 1   │ 'a'     │ 1     │ 6       │ 4       │ 3       │ 10      │\n",
       "│ 2   │ 'b'     │ 2     │ 5       │ 5       │ 4       │ \u001b[90mmissing\u001b[39m │\n",
       "│ 3   │ 'c'     │ 1     │ 4       │ 6       │ 5       │ 10      │\n",
       "│ 4   │ 'd'     │ 2     │ 3       │ 7       │ 6       │ \u001b[90mmissing\u001b[39m │\n",
       "│ 5   │ 'e'     │ 1     │ 2       │ 8       │ 7       │ 10      │\n",
       "│ 6   │ 'f'     │ 2     │ 1       │ 9       │ \u001b[90mmissing\u001b[39m │ \u001b[90mmissing\u001b[39m │\n",
       "│ 7   │ \u001b[90mmissing\u001b[39m │ 3     │ \u001b[90mmissing\u001b[39m │ \u001b[90mmissing\u001b[39m │ \u001b[90mmissing\u001b[39m │ 11      │"
      ]
     },
     "execution_count": 35,
     "metadata": {},
     "output_type": "execute_result"
    }
   ],
   "source": [
    "outerjoin(df, df2, on = :grp)"
   ]
  },
  {
   "cell_type": "code",
   "execution_count": 36,
   "metadata": {},
   "outputs": [
    {
     "data": {
      "text/html": [
       "<table class=\"data-frame\"><thead><tr><th></th><th>id</th><th>grp</th><th>x</th><th>y</th><th>z</th><th>w</th></tr><tr><th></th><th>Char</th><th>Int64</th><th>Int64</th><th>Int64</th><th>Int64?</th><th>Int64?</th></tr></thead><tbody><p>6 rows × 6 columns</p><tr><th>1</th><td>'a'</td><td>1</td><td>6</td><td>4</td><td>3</td><td>10</td></tr><tr><th>2</th><td>'b'</td><td>2</td><td>5</td><td>5</td><td>4</td><td><em>missing</em></td></tr><tr><th>3</th><td>'c'</td><td>1</td><td>4</td><td>6</td><td>5</td><td>10</td></tr><tr><th>4</th><td>'d'</td><td>2</td><td>3</td><td>7</td><td>6</td><td><em>missing</em></td></tr><tr><th>5</th><td>'e'</td><td>1</td><td>2</td><td>8</td><td>7</td><td>10</td></tr><tr><th>6</th><td>'f'</td><td>2</td><td>1</td><td>9</td><td><em>missing</em></td><td><em>missing</em></td></tr></tbody></table>"
      ],
      "text/latex": [
       "\\begin{tabular}{r|cccccc}\n",
       "\t& id & grp & x & y & z & w\\\\\n",
       "\t\\hline\n",
       "\t& Char & Int64 & Int64 & Int64 & Int64? & Int64?\\\\\n",
       "\t\\hline\n",
       "\t1 & 'a' & 1 & 6 & 4 & 3 & 10 \\\\\n",
       "\t2 & 'b' & 2 & 5 & 5 & 4 & \\emph{missing} \\\\\n",
       "\t3 & 'c' & 1 & 4 & 6 & 5 & 10 \\\\\n",
       "\t4 & 'd' & 2 & 3 & 7 & 6 & \\emph{missing} \\\\\n",
       "\t5 & 'e' & 1 & 2 & 8 & 7 & 10 \\\\\n",
       "\t6 & 'f' & 2 & 1 & 9 & \\emph{missing} & \\emph{missing} \\\\\n",
       "\\end{tabular}\n"
      ],
      "text/plain": [
       "6×6 DataFrame\n",
       "│ Row │ id   │ grp   │ x     │ y     │ z       │ w       │\n",
       "│     │ \u001b[90mChar\u001b[39m │ \u001b[90mInt64\u001b[39m │ \u001b[90mInt64\u001b[39m │ \u001b[90mInt64\u001b[39m │ \u001b[90mInt64?\u001b[39m  │ \u001b[90mInt64?\u001b[39m  │\n",
       "├─────┼──────┼───────┼───────┼───────┼─────────┼─────────┤\n",
       "│ 1   │ 'a'  │ 1     │ 6     │ 4     │ 3       │ 10      │\n",
       "│ 2   │ 'b'  │ 2     │ 5     │ 5     │ 4       │ \u001b[90mmissing\u001b[39m │\n",
       "│ 3   │ 'c'  │ 1     │ 4     │ 6     │ 5       │ 10      │\n",
       "│ 4   │ 'd'  │ 2     │ 3     │ 7     │ 6       │ \u001b[90mmissing\u001b[39m │\n",
       "│ 5   │ 'e'  │ 1     │ 2     │ 8     │ 7       │ 10      │\n",
       "│ 6   │ 'f'  │ 2     │ 1     │ 9     │ \u001b[90mmissing\u001b[39m │ \u001b[90mmissing\u001b[39m │"
      ]
     },
     "execution_count": 36,
     "metadata": {},
     "output_type": "execute_result"
    }
   ],
   "source": [
    "leftjoin(df, df2, on = :grp)"
   ]
  },
  {
   "cell_type": "code",
   "execution_count": 37,
   "metadata": {},
   "outputs": [
    {
     "data": {
      "text/html": [
       "<table class=\"data-frame\"><thead><tr><th></th><th>id</th><th>grp</th><th>x</th><th>y</th><th>z</th><th>w</th></tr><tr><th></th><th>Char?</th><th>Int64</th><th>Int64?</th><th>Int64?</th><th>Int64?</th><th>Int64</th></tr></thead><tbody><p>4 rows × 6 columns</p><tr><th>1</th><td>'a'</td><td>1</td><td>6</td><td>4</td><td>3</td><td>10</td></tr><tr><th>2</th><td>'c'</td><td>1</td><td>4</td><td>6</td><td>5</td><td>10</td></tr><tr><th>3</th><td>'e'</td><td>1</td><td>2</td><td>8</td><td>7</td><td>10</td></tr><tr><th>4</th><td><em>missing</em></td><td>3</td><td><em>missing</em></td><td><em>missing</em></td><td><em>missing</em></td><td>11</td></tr></tbody></table>"
      ],
      "text/latex": [
       "\\begin{tabular}{r|cccccc}\n",
       "\t& id & grp & x & y & z & w\\\\\n",
       "\t\\hline\n",
       "\t& Char? & Int64 & Int64? & Int64? & Int64? & Int64\\\\\n",
       "\t\\hline\n",
       "\t1 & 'a' & 1 & 6 & 4 & 3 & 10 \\\\\n",
       "\t2 & 'c' & 1 & 4 & 6 & 5 & 10 \\\\\n",
       "\t3 & 'e' & 1 & 2 & 8 & 7 & 10 \\\\\n",
       "\t4 & \\emph{missing} & 3 & \\emph{missing} & \\emph{missing} & \\emph{missing} & 11 \\\\\n",
       "\\end{tabular}\n"
      ],
      "text/plain": [
       "4×6 DataFrame\n",
       "│ Row │ id      │ grp   │ x       │ y       │ z       │ w     │\n",
       "│     │ \u001b[90mChar?\u001b[39m   │ \u001b[90mInt64\u001b[39m │ \u001b[90mInt64?\u001b[39m  │ \u001b[90mInt64?\u001b[39m  │ \u001b[90mInt64?\u001b[39m  │ \u001b[90mInt64\u001b[39m │\n",
       "├─────┼─────────┼───────┼─────────┼─────────┼─────────┼───────┤\n",
       "│ 1   │ 'a'     │ 1     │ 6       │ 4       │ 3       │ 10    │\n",
       "│ 2   │ 'c'     │ 1     │ 4       │ 6       │ 5       │ 10    │\n",
       "│ 3   │ 'e'     │ 1     │ 2       │ 8       │ 7       │ 10    │\n",
       "│ 4   │ \u001b[90mmissing\u001b[39m │ 3     │ \u001b[90mmissing\u001b[39m │ \u001b[90mmissing\u001b[39m │ \u001b[90mmissing\u001b[39m │ 11    │"
      ]
     },
     "execution_count": 37,
     "metadata": {},
     "output_type": "execute_result"
    }
   ],
   "source": [
    "rightjoin(df, df2, on = :grp)"
   ]
  },
  {
   "cell_type": "code",
   "execution_count": 38,
   "metadata": {},
   "outputs": [
    {
     "data": {
      "text/html": [
       "<table class=\"data-frame\"><thead><tr><th></th><th>id</th><th>grp</th><th>x</th><th>y</th><th>z</th></tr><tr><th></th><th>Char</th><th>Int64</th><th>Int64</th><th>Int64</th><th>Int64?</th></tr></thead><tbody><p>3 rows × 5 columns</p><tr><th>1</th><td>'a'</td><td>1</td><td>6</td><td>4</td><td>3</td></tr><tr><th>2</th><td>'c'</td><td>1</td><td>4</td><td>6</td><td>5</td></tr><tr><th>3</th><td>'e'</td><td>1</td><td>2</td><td>8</td><td>7</td></tr></tbody></table>"
      ],
      "text/latex": [
       "\\begin{tabular}{r|ccccc}\n",
       "\t& id & grp & x & y & z\\\\\n",
       "\t\\hline\n",
       "\t& Char & Int64 & Int64 & Int64 & Int64?\\\\\n",
       "\t\\hline\n",
       "\t1 & 'a' & 1 & 6 & 4 & 3 \\\\\n",
       "\t2 & 'c' & 1 & 4 & 6 & 5 \\\\\n",
       "\t3 & 'e' & 1 & 2 & 8 & 7 \\\\\n",
       "\\end{tabular}\n"
      ],
      "text/plain": [
       "3×5 DataFrame\n",
       "│ Row │ id   │ grp   │ x     │ y     │ z      │\n",
       "│     │ \u001b[90mChar\u001b[39m │ \u001b[90mInt64\u001b[39m │ \u001b[90mInt64\u001b[39m │ \u001b[90mInt64\u001b[39m │ \u001b[90mInt64?\u001b[39m │\n",
       "├─────┼──────┼───────┼───────┼───────┼────────┤\n",
       "│ 1   │ 'a'  │ 1     │ 6     │ 4     │ 3      │\n",
       "│ 2   │ 'c'  │ 1     │ 4     │ 6     │ 5      │\n",
       "│ 3   │ 'e'  │ 1     │ 2     │ 8     │ 7      │"
      ]
     },
     "execution_count": 38,
     "metadata": {},
     "output_type": "execute_result"
    }
   ],
   "source": [
    "semijoin(df, df2, on = :grp)"
   ]
  },
  {
   "cell_type": "code",
   "execution_count": 39,
   "metadata": {},
   "outputs": [
    {
     "data": {
      "text/html": [
       "<table class=\"data-frame\"><thead><tr><th></th><th>id</th><th>grp</th><th>x</th><th>y</th><th>z</th></tr><tr><th></th><th>Char</th><th>Int64</th><th>Int64</th><th>Int64</th><th>Int64?</th></tr></thead><tbody><p>3 rows × 5 columns</p><tr><th>1</th><td>'b'</td><td>2</td><td>5</td><td>5</td><td>4</td></tr><tr><th>2</th><td>'d'</td><td>2</td><td>3</td><td>7</td><td>6</td></tr><tr><th>3</th><td>'f'</td><td>2</td><td>1</td><td>9</td><td><em>missing</em></td></tr></tbody></table>"
      ],
      "text/latex": [
       "\\begin{tabular}{r|ccccc}\n",
       "\t& id & grp & x & y & z\\\\\n",
       "\t\\hline\n",
       "\t& Char & Int64 & Int64 & Int64 & Int64?\\\\\n",
       "\t\\hline\n",
       "\t1 & 'b' & 2 & 5 & 5 & 4 \\\\\n",
       "\t2 & 'd' & 2 & 3 & 7 & 6 \\\\\n",
       "\t3 & 'f' & 2 & 1 & 9 & \\emph{missing} \\\\\n",
       "\\end{tabular}\n"
      ],
      "text/plain": [
       "3×5 DataFrame\n",
       "│ Row │ id   │ grp   │ x     │ y     │ z       │\n",
       "│     │ \u001b[90mChar\u001b[39m │ \u001b[90mInt64\u001b[39m │ \u001b[90mInt64\u001b[39m │ \u001b[90mInt64\u001b[39m │ \u001b[90mInt64?\u001b[39m  │\n",
       "├─────┼──────┼───────┼───────┼───────┼─────────┤\n",
       "│ 1   │ 'b'  │ 2     │ 5     │ 5     │ 4       │\n",
       "│ 2   │ 'd'  │ 2     │ 3     │ 7     │ 6       │\n",
       "│ 3   │ 'f'  │ 2     │ 1     │ 9     │ \u001b[90mmissing\u001b[39m │"
      ]
     },
     "execution_count": 39,
     "metadata": {},
     "output_type": "execute_result"
    }
   ],
   "source": [
    "antijoin(df, df2, on = :grp)"
   ]
  }
 ],
 "metadata": {
  "kernelspec": {
   "display_name": "Julia 1.5.0",
   "language": "julia",
   "name": "julia-1.5"
  },
  "language_info": {
   "file_extension": ".jl",
   "mimetype": "application/julia",
   "name": "julia",
   "version": "1.5.0"
  }
 },
 "nbformat": 4,
 "nbformat_minor": 4
}
